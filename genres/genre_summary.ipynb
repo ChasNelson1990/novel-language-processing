{
 "cells": [
  {
   "cell_type": "markdown",
   "metadata": {},
   "source": [
    "# Summary of Subject Corpus"
   ]
  },
  {
   "cell_type": "markdown",
   "metadata": {},
   "source": [
    "## Imports"
   ]
  },
  {
   "cell_type": "code",
   "execution_count": 1,
   "metadata": {},
   "outputs": [],
   "source": [
    "import requests\n",
    "import json\n",
    "import pandas as pd"
   ]
  },
  {
   "cell_type": "markdown",
   "metadata": {},
   "source": [
    "## Parameters"
   ]
  },
  {
   "cell_type": "code",
   "execution_count": 2,
   "metadata": {},
   "outputs": [],
   "source": [
    "corpus_db_url = \"http://corpus-db.org/api\""
   ]
  },
  {
   "cell_type": "markdown",
   "metadata": {},
   "source": [
    "## Get Data"
   ]
  },
  {
   "cell_type": "markdown",
   "metadata": {},
   "source": [
    "### List Subjects"
   ]
  },
  {
   "cell_type": "code",
   "execution_count": 3,
   "metadata": {},
   "outputs": [
    {
     "data": {
      "text/html": [
       "<div>\n",
       "<style scoped>\n",
       "    .dataframe tbody tr th:only-of-type {\n",
       "        vertical-align: middle;\n",
       "    }\n",
       "\n",
       "    .dataframe tbody tr th {\n",
       "        vertical-align: top;\n",
       "    }\n",
       "\n",
       "    .dataframe thead th {\n",
       "        text-align: right;\n",
       "    }\n",
       "</style>\n",
       "<table border=\"1\" class=\"dataframe\">\n",
       "  <thead>\n",
       "    <tr style=\"text-align: right;\">\n",
       "      <th></th>\n",
       "      <th>subject</th>\n",
       "      <th>count</th>\n",
       "    </tr>\n",
       "  </thead>\n",
       "  <tbody>\n",
       "    <tr>\n",
       "      <th>0</th>\n",
       "      <td>Fiction</td>\n",
       "      <td>1920</td>\n",
       "    </tr>\n",
       "    <tr>\n",
       "      <th>1</th>\n",
       "      <td>Short stories</td>\n",
       "      <td>1581</td>\n",
       "    </tr>\n",
       "    <tr>\n",
       "      <th>2</th>\n",
       "      <td>Science fiction</td>\n",
       "      <td>1283</td>\n",
       "    </tr>\n",
       "    <tr>\n",
       "      <th>3</th>\n",
       "      <td>Adventure stories</td>\n",
       "      <td>766</td>\n",
       "    </tr>\n",
       "    <tr>\n",
       "      <th>4</th>\n",
       "      <td>Historical fiction</td>\n",
       "      <td>634</td>\n",
       "    </tr>\n",
       "    <tr>\n",
       "      <th>5</th>\n",
       "      <td>Poetry</td>\n",
       "      <td>633</td>\n",
       "    </tr>\n",
       "    <tr>\n",
       "      <th>6</th>\n",
       "      <td>Love stories</td>\n",
       "      <td>619</td>\n",
       "    </tr>\n",
       "    <tr>\n",
       "      <th>7</th>\n",
       "      <td>,</td>\n",
       "      <td>557</td>\n",
       "    </tr>\n",
       "    <tr>\n",
       "      <th>8</th>\n",
       "      <td>English wit and humor -- Periodicals</td>\n",
       "      <td>555</td>\n",
       "    </tr>\n",
       "    <tr>\n",
       "      <th>9</th>\n",
       "      <td>Conduct of life -- Juvenile fiction</td>\n",
       "      <td>554</td>\n",
       "    </tr>\n",
       "    <tr>\n",
       "      <th>10</th>\n",
       "      <td>Detective and mystery stories</td>\n",
       "      <td>537</td>\n",
       "    </tr>\n",
       "    <tr>\n",
       "      <th>11</th>\n",
       "      <td>Western stories</td>\n",
       "      <td>432</td>\n",
       "    </tr>\n",
       "    <tr>\n",
       "      <th>12</th>\n",
       "      <td>Man-woman relationships -- Fiction</td>\n",
       "      <td>389</td>\n",
       "    </tr>\n",
       "    <tr>\n",
       "      <th>13</th>\n",
       "      <td>England -- Fiction</td>\n",
       "      <td>309</td>\n",
       "    </tr>\n",
       "    <tr>\n",
       "      <th>14</th>\n",
       "      <td>Friendship -- Juvenile fiction</td>\n",
       "      <td>307</td>\n",
       "    </tr>\n",
       "  </tbody>\n",
       "</table>\n",
       "</div>"
      ],
      "text/plain": [
       "                                 subject  count\n",
       "0                                Fiction   1920\n",
       "1                          Short stories   1581\n",
       "2                        Science fiction   1283\n",
       "3                      Adventure stories    766\n",
       "4                     Historical fiction    634\n",
       "5                                 Poetry    633\n",
       "6                           Love stories    619\n",
       "7                                     ,     557\n",
       "8   English wit and humor -- Periodicals    555\n",
       "9    Conduct of life -- Juvenile fiction    554\n",
       "10         Detective and mystery stories    537\n",
       "11                       Western stories    432\n",
       "12    Man-woman relationships -- Fiction    389\n",
       "13                    England -- Fiction    309\n",
       "14        Friendship -- Juvenile fiction    307"
      ]
     },
     "metadata": {},
     "output_type": "display_data"
    }
   ],
   "source": [
    "subjects = pd.DataFrame(json.loads(requests.get(corpus_db_url + \"/subjects\").text), columns=['subject', 'count'])\n",
    "display(subjects.head(15))  # show the top 15 subjects"
   ]
  },
  {
   "cell_type": "markdown",
   "metadata": {},
   "source": [
    "### Filter subjects\n",
    "\n",
    "Returns a list that we can use to combine all 'detective' and 'crime' subjects that are in English (or not specified and so assumed)"
   ]
  },
  {
   "cell_type": "code",
   "execution_count": 4,
   "metadata": {},
   "outputs": [
    {
     "data": {
      "text/plain": [
       "['Detective and mystery stories',\n",
       " 'Mystery and detective stories',\n",
       " 'Detective and mystery stories, English',\n",
       " 'Private investigators -- England -- Fiction',\n",
       " 'Women detectives -- Juvenile fiction',\n",
       " 'Crime',\n",
       " 'Crime -- Fiction',\n",
       " 'Detective and mystery stories, American',\n",
       " 'Crime -- Great Britain',\n",
       " 'Private investigators -- Fiction',\n",
       " 'Crime -- England -- London',\n",
       " 'Crime -- United States',\n",
       " 'Detectives',\n",
       " 'Detectives -- Fiction',\n",
       " 'Detectives -- Juvenile fiction',\n",
       " 'Detectives -- United States',\n",
       " 'Crime -- Drama',\n",
       " 'Crime -- Juvenile fiction',\n",
       " 'Private investigators -- England -- London -- Fiction',\n",
       " 'Computer crimes -- Australia',\n",
       " 'Computer crimes -- United States',\n",
       " 'Crime -- England -- Fiction',\n",
       " 'Crime -- England -- London -- Early works to 1800',\n",
       " 'Crime -- Illinois -- Chicago',\n",
       " 'Crime -- New York (State) -- New York',\n",
       " 'Crime -- United States -- Fiction',\n",
       " 'Crime -- West (U.S.)',\n",
       " 'Detective and mystery plays',\n",
       " 'Detective and mystery stories -- Periodicals',\n",
       " 'Detectives -- West (U.S.) -- Fiction']"
      ]
     },
     "metadata": {},
     "output_type": "display_data"
    }
   ],
   "source": [
    "desired_subjects = 'detective|crime|private investigators'\n",
    "undesired_subjects = 'crimean|commercial|case studies|history|biography|against|organized|political'\n",
    "undesired_languages = 'france|french|chinese|german|argentina|ukraine|dutch|portuguese|philippines'\n",
    "filtered_subjects = subjects.where(subjects['subject'].str.contains(desired_subjects, case=False, regex=True))\n",
    "filtered_subjects = filtered_subjects.where(~subjects['subject'].str.contains(undesired_subjects, case=False, regex=True))\n",
    "filtered_subjects = filtered_subjects.where(~subjects['subject'].str.contains(undesired_languages, case=False, regex=True))\n",
    "filtered_subjects = filtered_subjects.dropna()['subject'].to_list()\n",
    "\n",
    "display(filtered_subjects)"
   ]
  },
  {
   "cell_type": "markdown",
   "metadata": {},
   "source": [
    "### Get metadata for records of all remaining subjects"
   ]
  },
  {
   "cell_type": "code",
   "execution_count": 5,
   "metadata": {},
   "outputs": [
    {
     "name": "stdout",
     "output_type": "stream",
     "text": [
      "Got 1104 records.\n"
     ]
    }
   ],
   "source": [
    "metadata = []\n",
    "for subject in filtered_subjects:\n",
    "    metadata = metadata + json.loads(requests.get(corpus_db_url + f\"/subject/{subject}\").text)\n",
    "    \n",
    "print('Got {0} records.'.format(len(metadata)))"
   ]
  },
  {
   "cell_type": "markdown",
   "metadata": {},
   "source": [
    "### Narrow down by language meta tag"
   ]
  },
  {
   "cell_type": "code",
   "execution_count": 6,
   "metadata": {},
   "outputs": [
    {
     "name": "stdout",
     "output_type": "stream",
     "text": [
      "Narrowed to 1038 records.\n"
     ]
    }
   ],
   "source": [
    "filtered_metadata = [item for item in metadata if 'en' in item['languages']]\n",
    "\n",
    "print('Narrowed to {0} records.'.format(len(filtered_metadata)))"
   ]
  },
  {
   "cell_type": "markdown",
   "metadata": {},
   "source": [
    "### Narrow down by Library of Congress meta tag\n",
    "\n",
    "PE - English language\n",
    "PR - British literature\n",
    "PS - American literature"
   ]
  },
  {
   "cell_type": "code",
   "execution_count": 7,
   "metadata": {},
   "outputs": [
    {
     "name": "stdout",
     "output_type": "stream",
     "text": [
      "Narrowed to 664 records.\n"
     ]
    }
   ],
   "source": [
    "filtered_metadata = [item for item in filtered_metadata if 'PE' in item['LCC'] or 'PR' in item['LCC'] or 'PS' in item['LCC']]\n",
    "\n",
    "print('Narrowed to {0} records.'.format(len(filtered_metadata)))"
   ]
  },
  {
   "cell_type": "markdown",
   "metadata": {},
   "source": [
    "### Get Full Text Corpus"
   ]
  },
  {
   "cell_type": "code",
   "execution_count": 8,
   "metadata": {},
   "outputs": [
    {
     "name": "stdout",
     "output_type": "stream",
     "text": [
      "Corpus of 664 texts.\n"
     ]
    }
   ],
   "source": [
    "def getFulltext(bookID): \n",
    "    return json.loads(requests.get(corpus_db_url + '/id/' + bookID + '/fulltext').text)\n",
    "\n",
    "corpus = [getFulltext(bookID) for bookID in filtered_metadata[0]]\n",
    "\n",
    "print('Corpus of {0} texts.'.format(len(filtered_metadata)))"
   ]
  }
 ],
 "metadata": {
  "kernelspec": {
   "display_name": "novel-language-processing",
   "language": "python",
   "name": "novel-language-processing"
  },
  "language_info": {
   "codemirror_mode": {
    "name": "ipython",
    "version": 3
   },
   "file_extension": ".py",
   "mimetype": "text/x-python",
   "name": "python",
   "nbconvert_exporter": "python",
   "pygments_lexer": "ipython3",
   "version": "3.8.3"
  }
 },
 "nbformat": 4,
 "nbformat_minor": 4
}
