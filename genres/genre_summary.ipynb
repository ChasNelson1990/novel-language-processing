{
 "cells": [
  {
   "cell_type": "markdown",
   "metadata": {},
   "source": [
    "# Summary of Subject Corpus"
   ]
  },
  {
   "cell_type": "markdown",
   "metadata": {},
   "source": [
    "## Imports"
   ]
  },
  {
   "cell_type": "code",
   "execution_count": null,
   "metadata": {},
   "outputs": [],
   "source": [
    "import requests\n",
    "import json\n",
    "import pickle\n",
    "import numpy as np\n",
    "import pandas as pd\n",
    "import matplotlib.pyplot as plt\n",
    "import seaborn as sns\n",
    "from sklearn.decomposition import PCA\n",
    "from sklearn.feature_extraction.text import TfidfVectorizer\n",
    "from tqdm.notebook import trange, tqdm\n",
    "import spacy"
   ]
  },
  {
   "cell_type": "markdown",
   "metadata": {},
   "source": [
    "## Parameters"
   ]
  },
  {
   "cell_type": "code",
   "execution_count": null,
   "metadata": {},
   "outputs": [],
   "source": [
    "corpus_db_url = \"http://corpus-db.org/api\""
   ]
  },
  {
   "cell_type": "markdown",
   "metadata": {},
   "source": [
    "## Get Data"
   ]
  },
  {
   "cell_type": "markdown",
   "metadata": {},
   "source": [
    "### List Subjects"
   ]
  },
  {
   "cell_type": "code",
   "execution_count": null,
   "metadata": {},
   "outputs": [],
   "source": [
    "subjects = pd.DataFrame(json.loads(requests.get(corpus_db_url + \"/subjects\", timeout=5).text), columns=['subject', 'count'])\n",
    "display(subjects.head(15))  # show the top 15 subjects"
   ]
  },
  {
   "cell_type": "markdown",
   "metadata": {},
   "source": [
    "### Filter subjects\n",
    "\n",
    "Returns a list that we can use to combine all 'detective' and 'crime' subjects that are in English (or not specified and so assumed)"
   ]
  },
  {
   "cell_type": "code",
   "execution_count": null,
   "metadata": {},
   "outputs": [],
   "source": [
    "desired_subjects = 'detective|crime|private investigators'\n",
    "undesired_subjects = 'crimean|commercial|case studies|history|biography|against|organized|political'\n",
    "undesired_languages = 'france|french|chinese|german|argentina|ukraine|dutch|portuguese|philippines'\n",
    "filtered_subjects = subjects.where(subjects['subject'].str.contains(desired_subjects, case=False, regex=True))\n",
    "filtered_subjects = filtered_subjects.where(~subjects['subject'].str.contains(undesired_subjects, case=False, regex=True))\n",
    "filtered_subjects = filtered_subjects.where(~subjects['subject'].str.contains(undesired_languages, case=False, regex=True))\n",
    "filtered_subjects = filtered_subjects.dropna()['subject'].to_list()\n",
    "\n",
    "display(filtered_subjects)"
   ]
  },
  {
   "cell_type": "markdown",
   "metadata": {},
   "source": [
    "### Get metadata for records of all remaining subjects"
   ]
  },
  {
   "cell_type": "code",
   "execution_count": null,
   "metadata": {},
   "outputs": [],
   "source": [
    "metadata = []\n",
    "for subject in tqdm(filtered_subjects):\n",
    "#     print('Getting metadata for {0}'.format(subject))\n",
    "    data = None\n",
    "    count = 0\n",
    "    while count<10 and data is None:\n",
    "        try:\n",
    "            data = json.loads(requests.get(corpus_db_url + f\"/subject/{subject}\", timeout=1).text)\n",
    "        except:\n",
    "            print('Failed, reattempting.')\n",
    "            count = count + 1\n",
    "            pass\n",
    "    metadata = metadata + data\n",
    "    \n",
    "print('Got {0} records.'.format(len(metadata)))"
   ]
  },
  {
   "cell_type": "markdown",
   "metadata": {},
   "source": [
    "### Narrow down by language meta tag"
   ]
  },
  {
   "cell_type": "code",
   "execution_count": null,
   "metadata": {},
   "outputs": [],
   "source": [
    "filtered_metadata = [item for item in metadata if 'en' in item['languages']]\n",
    "\n",
    "print('Narrowed to {0} records.'.format(len(filtered_metadata)))"
   ]
  },
  {
   "cell_type": "markdown",
   "metadata": {},
   "source": [
    "### Narrow down by Library of Congress meta tag\n",
    "\n",
    "PE - English language\n",
    "PR - British literature\n",
    "PS - American literature"
   ]
  },
  {
   "cell_type": "code",
   "execution_count": null,
   "metadata": {},
   "outputs": [],
   "source": [
    "filtered_metadata = [item for item in filtered_metadata if 'PE' in item['LCC'] or 'PR' in item['LCC'] or 'PS' in item['LCC']]\n",
    "\n",
    "print('Narrowed to {0} records.'.format(len(filtered_metadata)))"
   ]
  },
  {
   "cell_type": "markdown",
   "metadata": {},
   "source": [
    "### Get Full Text Corpus"
   ]
  },
  {
   "cell_type": "code",
   "execution_count": null,
   "metadata": {},
   "outputs": [],
   "source": [
    "(corpus, corpus_labels, corpus_authors, corpus_titles) = pickle.load(open( \"save.p\", \"rb\" ))"
   ]
  },
  {
   "cell_type": "code",
   "execution_count": null,
   "metadata": {},
   "outputs": [],
   "source": [
    "# def getFulltext(bookID):\n",
    "#     data = None\n",
    "#     count = 0\n",
    "#     while count<100 and data is None:\n",
    "#         try:\n",
    "#             data = json.loads(requests.get(corpus_db_url + '/id/' + bookID + '/fulltext', timeout=1).text)\n",
    "#         except Exception as e:\n",
    "#             print(f'Failed due to timeout, reattempting ({count}).')\n",
    "#             count = count + 1\n",
    "#             pass\n",
    "#         if isinstance(data,list) and len(data)>0 and isinstance(data[0],dict):\n",
    "#             return data[0]['text']\n",
    "\n",
    "# corpus = []\n",
    "# corpus_labels = []\n",
    "# corpus_authors = []\n",
    "# corpus_years = []\n",
    "# corpus_titles = []\n",
    "# for book in tqdm(filtered_metadata):\n",
    "# #     print('Collecting book: {0}'.format(book['title']))\n",
    "#     data = getFulltext(book['id'])\n",
    "#     if data is not None:\n",
    "#         for subject in eval(book['lcsh'].lower()):\n",
    "#             if 'detective' in subject or 'title' in subject:\n",
    "#                 corpus_titles.append(book['author'])\n",
    "#                 corpus_authors.append(book['author'])\n",
    "#                 corpus.append(data)\n",
    "#                 corpus_labels.append('detective')\n",
    "#                 break\n",
    "#             elif 'crime' in subject:\n",
    "#                 corpus_titles.append(book['author'])\n",
    "#                 corpus_authors.append(book['author'])\n",
    "#                 corpus.append(data)\n",
    "#                 corpus_labels.append('crime')\n",
    "#                 break\n",
    "# #             print('Ignored: {}'.format(subject))\n",
    "# #     else:\n",
    "# #         print('No data')\n",
    "\n",
    "# print('Corpus of {0} texts.'.format(len(corpus)))"
   ]
  },
  {
   "cell_type": "code",
   "execution_count": null,
   "metadata": {},
   "outputs": [],
   "source": [
    "# pickle.dump((corpus, corpus_labels, corpus_authors, corpus_titles), open( \"save.p\", \"wb\" ))\n",
    "# print(len(corpus),len(corpus_labels),len(corpus_authors), len(corpus_titles))"
   ]
  },
  {
   "cell_type": "markdown",
   "metadata": {},
   "source": [
    "## Stylometry - Splitting Genres into Authors Based on Style"
   ]
  },
  {
   "cell_type": "markdown",
   "metadata": {},
   "source": [
    "### Using SciKit Learn's PCA and Term Frequency"
   ]
  },
  {
   "cell_type": "code",
   "execution_count": null,
   "metadata": {},
   "outputs": [],
   "source": [
    "tfidf = TfidfVectorizer(use_idf=False, max_features=1000)\n",
    "tf = tfidf.fit_transform(corpus).todense()\n",
    "print(tf.shape)\n",
    "pca = PCA(n_components=2)\n",
    "pcaOut = pca.fit_transform(tf)\n",
    "\n",
    "plt.figure(figsize=[15,15])\n",
    "xs, ys = pcaOut[:,0], pcaOut[:,1]\n",
    "for i in range(len(xs)):\n",
    "    plt.scatter(xs[i], ys[i])\n",
    "#     plt.annotate(corpus_labels[i], (xs[i], ys[i]))\n",
    "    plt.annotate(corpus_authors[i], (xs[i], ys[i]))\n",
    "plt.show()"
   ]
  },
  {
   "cell_type": "markdown",
   "metadata": {},
   "source": [
    "### Using SciKit Learn's PCA and Term Frequency - Inverse Focument Frequency"
   ]
  },
  {
   "cell_type": "code",
   "execution_count": null,
   "metadata": {},
   "outputs": [],
   "source": [
    "tfidf = TfidfVectorizer(use_idf=True, max_features=1000)\n",
    "tf = tfidf.fit_transform(corpus).todense()\n",
    "# print(tfidf.get_feature_names()[:10])\n",
    "pca = PCA(n_components=2)\n",
    "pcaOut = pca.fit_transform(tf)\n",
    "\n",
    "plt.figure(figsize=[15,15])\n",
    "xs, ys = pcaOut[:,0], pcaOut[:,1]\n",
    "for i in range(len(xs)):\n",
    "    plt.scatter(xs[i], ys[i])\n",
    "#     plt.annotate(corpus_labels[i], (xs[i], ys[i]))\n",
    "    plt.annotate(corpus_authors[i], (xs[i], ys[i]))\n",
    "plt.show()"
   ]
  },
  {
   "cell_type": "markdown",
   "metadata": {},
   "source": [
    "### Using SpaCy's Similarity\n",
    "\n",
    "Takes ages to run - not very informative.\n",
    "Can't convert full corpus to docs due to memory."
   ]
  },
  {
   "cell_type": "code",
   "execution_count": null,
   "metadata": {},
   "outputs": [],
   "source": [
    "# (nlp, corpus_docs) = pickle.load(open( \"savedocs.p\", \"rb\" ))"
   ]
  },
  {
   "cell_type": "code",
   "execution_count": null,
   "metadata": {},
   "outputs": [],
   "source": [
    "nlp = spacy.load(\"en_core_web_lg\")\n",
    "nlp.vocab.prune_vectors(10000)\n",
    "nlp.max_length = 1500000"
   ]
  },
  {
   "cell_type": "code",
   "execution_count": null,
   "metadata": {},
   "outputs": [],
   "source": [
    "# # premake docs\n",
    "# corpus_docs = []\n",
    "# for book in trange(len(corpus)):\n",
    "#     corpus_docs.append(nlp(corpus[book]))\n",
    "#     corpus[book] = None  # for memory reasons\n",
    "    \n",
    "# del corpus  # for memory reasons"
   ]
  },
  {
   "cell_type": "code",
   "execution_count": null,
   "metadata": {},
   "outputs": [],
   "source": [
    "# pickle.dump((nlp,corpus_docs), open( \"savedocs.p\", \"wb\" ))"
   ]
  },
  {
   "cell_type": "code",
   "execution_count": null,
   "metadata": {},
   "outputs": [],
   "source": [
    "# book_similarities = np.zeros((len(corpus_docs),len(corpus_docs)))\n",
    "\n",
    "# for idx1,doc1 in enumerate(corpus_docs):\n",
    "#     for idx2,doc2 in enumerate(corpus_docs):\n",
    "#         if idx1==idx2:\n",
    "#             book_similarities[idx1, idx2] = 1.0\n",
    "#         elif idx2>idx1:\n",
    "#             book_similarities[idx1, idx2] = doc1.similarity(doc2)\n",
    "#         else:\n",
    "#             book_similarities[idx1, idx2] = book_similarities[idx2, idx1]\n",
    "\n",
    "# ranked_order = book_similarities[0,:].argsort()\n",
    "# book_similarities = book_similarities[ranked_order,:]\n",
    "\n",
    "# plt.figure(figsize=(30,30))\n",
    "# sns.heatmap(book_similarities)\n",
    "# ranked_authors = [corpus_authors[idx] for idx in ranked_order]\n",
    "# plt.yticks(np.arange(len(corpus_docs)),ranked_authors, rotation='horizontal')\n",
    "# plt.xticks(np.arange(len(corpus_docs)),corpus_authors[:100], rotation='vertical')\n",
    "# plt.show()"
   ]
  },
  {
   "cell_type": "markdown",
   "metadata": {},
   "source": [
    "## Sentence Tree Averaging\n",
    "\n",
    "From https://github.com/JonathanReeve/james-sentence"
   ]
  },
  {
   "cell_type": "code",
   "execution_count": null,
   "metadata": {},
   "outputs": [],
   "source": [
    "class sentenceStats(): \n",
    "    def __init__(self, doc): \n",
    "        \"\"\" Takes a SpaCy document as input. \"\"\"\n",
    "        self.doc = doc\n",
    "        self.sents = list(doc.sents)\n",
    "        self.vectors = [self.countLevels(sent) for sent in self.sents]\n",
    "        self.maxes = [max(vec) for vec in self.vectors]\n",
    "        self.averageSent = self.averageVectors(self.vectors)\n",
    "    \n",
    "    def countLevels(self, sent):\n",
    "        \"\"\" Create a numeric representation vector of a syntactic tree by counting the numbers\n",
    "        of child nodes at each level of the tree. \"\"\"\n",
    "#         print('Counting levels for sentence: ', sent)\n",
    "        sentRoot = sent.root\n",
    "        counts = [1, len(list(sentRoot.children))]\n",
    "        branches = list(sentRoot.children)\n",
    "        children = []\n",
    "        while branches != []: \n",
    "    #         print('---Branches: ', branches)\n",
    "            for branch in branches: \n",
    "    #             print('Branch: ', branch)\n",
    "    #             print('Children: ', list(branch.children))\n",
    "                for child in list(branch.children): \n",
    "                    children.append(child)\n",
    "    #             print('Children list: ', children)\n",
    "            counts.append(len(children))\n",
    "            branches = children.copy()\n",
    "            children = []\n",
    "        return counts\n",
    "\n",
    "    def averageVectors(self, vectorList): \n",
    "        \"\"\" Does an element-wise average for all the vectors in a list. \"\"\"\n",
    "        lengths = [len(vector) for vector in vectorList]\n",
    "        maxLength = max(lengths)\n",
    "        for vector in vectorList: \n",
    "            while len(vector) < maxLength: \n",
    "                vector.append(0) # Zero-pad\n",
    "        vectorList = np.array(vectorList)\n",
    "        return vectorList.mean(axis=0) # average each column\n",
    "    \n",
    "    def plotAverageSent(self): \n",
    "        pd.Series(self.averageSent).plot(kind=\"bar\")\n",
    "\n",
    "\n",
    "def getVector(doc): \n",
    "    stats = sentenceStats(doc)\n",
    "    return stats.averageSent, np.max(stats.maxes)"
   ]
  },
  {
   "cell_type": "code",
   "execution_count": null,
   "metadata": {},
   "outputs": [],
   "source": [
    "sentence_tree_averages = []\n",
    "sentence_tree_max = []\n",
    "\n",
    "for book in tqdm(corpus):\n",
    "    sentence_tree_average, sentence_tree_mx = getVector(nlp(book))\n",
    "    sentence_tree_averages.append(sentence_tree_average)\n",
    "    sentence_tree_max.append(sentence_tree_mx)\n",
    "\n",
    "df = pd.DataFrame(sentence_tree_averages, index=corpus_titles).T.fillna(0)\n",
    "df['author'] = corpus_authors"
   ]
  },
  {
   "cell_type": "code",
   "execution_count": null,
   "metadata": {},
   "outputs": [],
   "source": []
  }
 ],
 "metadata": {
  "kernelspec": {
   "display_name": "novel-language-processing",
   "language": "python",
   "name": "novel-language-processing"
  },
  "language_info": {
   "codemirror_mode": {
    "name": "ipython",
    "version": 3
   },
   "file_extension": ".py",
   "mimetype": "text/x-python",
   "name": "python",
   "nbconvert_exporter": "python",
   "pygments_lexer": "ipython3",
   "version": "3.8.3"
  }
 },
 "nbformat": 4,
 "nbformat_minor": 4
}
