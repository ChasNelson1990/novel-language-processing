{
 "cells": [
  {
   "cell_type": "markdown",
   "metadata": {},
   "source": [
    "# Summary of Subject Corpus"
   ]
  },
  {
   "cell_type": "markdown",
   "metadata": {},
   "source": [
    "## Imports"
   ]
  },
  {
   "cell_type": "code",
   "execution_count": 1,
   "metadata": {},
   "outputs": [],
   "source": [
    "import requests\n",
    "import json\n",
    "import pandas as pd\n",
    "import numpy as np"
   ]
  },
  {
   "cell_type": "markdown",
   "metadata": {},
   "source": [
    "## Parameters"
   ]
  },
  {
   "cell_type": "code",
   "execution_count": 2,
   "metadata": {},
   "outputs": [],
   "source": [
    "corpus_db_url = \"http://corpus-db.org/api\"\n",
    "author = 'Doyle, Arthur Conan'"
   ]
  },
  {
   "cell_type": "markdown",
   "metadata": {},
   "source": [
    "## Get Data"
   ]
  },
  {
   "cell_type": "markdown",
   "metadata": {},
   "source": [
    "### List Books"
   ]
  },
  {
   "cell_type": "code",
   "execution_count": 3,
   "metadata": {},
   "outputs": [
    {
     "data": {
      "text/html": [
       "<div>\n",
       "<style scoped>\n",
       "    .dataframe tbody tr th:only-of-type {\n",
       "        vertical-align: middle;\n",
       "    }\n",
       "\n",
       "    .dataframe tbody tr th {\n",
       "        vertical-align: top;\n",
       "    }\n",
       "\n",
       "    .dataframe thead th {\n",
       "        text-align: right;\n",
       "    }\n",
       "</style>\n",
       "<table border=\"1\" class=\"dataframe\">\n",
       "  <thead>\n",
       "    <tr style=\"text-align: right;\">\n",
       "      <th></th>\n",
       "      <th>lcsh</th>\n",
       "      <th>languages</th>\n",
       "      <th>LCC</th>\n",
       "      <th>author</th>\n",
       "      <th>id</th>\n",
       "      <th>title</th>\n",
       "      <th>type</th>\n",
       "    </tr>\n",
       "  </thead>\n",
       "  <tbody>\n",
       "    <tr>\n",
       "      <th>25</th>\n",
       "      <td>{'Private investigators -- England -- Fiction'...</td>\n",
       "      <td>['en']</td>\n",
       "      <td>{'PR'}</td>\n",
       "      <td>Doyle, Arthur Conan</td>\n",
       "      <td>2350.0</td>\n",
       "      <td>His Last Bow: An Epilogue of Sherlock Holmes</td>\n",
       "      <td>Text</td>\n",
       "    </tr>\n",
       "    <tr>\n",
       "      <th>68</th>\n",
       "      <td>{'Blessing and cursing -- Fiction', 'Holmes, S...</td>\n",
       "      <td>['pl']</td>\n",
       "      <td>{'PR'}</td>\n",
       "      <td>Doyle, Arthur Conan</td>\n",
       "      <td>34079.0</td>\n",
       "      <td>Tajemnica Baskerville'ów: dziwne przygody Sher...</td>\n",
       "      <td>Text</td>\n",
       "    </tr>\n",
       "    <tr>\n",
       "      <th>57</th>\n",
       "      <td>{'East and West -- Fiction', 'Egypt -- Social ...</td>\n",
       "      <td>['en']</td>\n",
       "      <td>{'PR'}</td>\n",
       "      <td>Doyle, Arthur Conan</td>\n",
       "      <td>21768.0</td>\n",
       "      <td>A Desert Drama: Being The Tragedy Of The \"Koro...</td>\n",
       "      <td>Text</td>\n",
       "    </tr>\n",
       "    <tr>\n",
       "      <th>8</th>\n",
       "      <td>{'Suburbs -- Great Britain -- Fiction'}</td>\n",
       "      <td>['en']</td>\n",
       "      <td>{'PR'}</td>\n",
       "      <td>Doyle, Arthur Conan</td>\n",
       "      <td>356.0</td>\n",
       "      <td>Beyond the City</td>\n",
       "      <td>Text</td>\n",
       "    </tr>\n",
       "    <tr>\n",
       "      <th>82</th>\n",
       "      <td>{'Adventure stories, English', 'France -- Hist...</td>\n",
       "      <td>['fi']</td>\n",
       "      <td>{'PR'}</td>\n",
       "      <td>Doyle, Arthur Conan</td>\n",
       "      <td>49584.0</td>\n",
       "      <td>Napoleonin sotilaan seikkailut</td>\n",
       "      <td>Text</td>\n",
       "    </tr>\n",
       "  </tbody>\n",
       "</table>\n",
       "</div>"
      ],
      "text/plain": [
       "                                                 lcsh languages     LCC  \\\n",
       "25  {'Private investigators -- England -- Fiction'...    ['en']  {'PR'}   \n",
       "68  {'Blessing and cursing -- Fiction', 'Holmes, S...    ['pl']  {'PR'}   \n",
       "57  {'East and West -- Fiction', 'Egypt -- Social ...    ['en']  {'PR'}   \n",
       "8             {'Suburbs -- Great Britain -- Fiction'}    ['en']  {'PR'}   \n",
       "82  {'Adventure stories, English', 'France -- Hist...    ['fi']  {'PR'}   \n",
       "\n",
       "                 author       id  \\\n",
       "25  Doyle, Arthur Conan   2350.0   \n",
       "68  Doyle, Arthur Conan  34079.0   \n",
       "57  Doyle, Arthur Conan  21768.0   \n",
       "8   Doyle, Arthur Conan    356.0   \n",
       "82  Doyle, Arthur Conan  49584.0   \n",
       "\n",
       "                                                title  type  \n",
       "25       His Last Bow: An Epilogue of Sherlock Holmes  Text  \n",
       "68  Tajemnica Baskerville'ów: dziwne przygody Sher...  Text  \n",
       "57  A Desert Drama: Being The Tragedy Of The \"Koro...  Text  \n",
       "8                                     Beyond the City  Text  \n",
       "82                     Napoleonin sotilaan seikkailut  Text  "
      ]
     },
     "metadata": {},
     "output_type": "display_data"
    },
    {
     "name": "stdout",
     "output_type": "stream",
     "text": [
      "Got metadata for 91 books.\n"
     ]
    }
   ],
   "source": [
    "unwanted_columns = ['downloads', 'authoryearofbirth', 'authoryearofdeath', 'formats', '']\n",
    "metadata = pd.DataFrame(json.loads(requests.get(corpus_db_url + f\"/author/{author}\").text))\n",
    "metadata = metadata.replace('', np.nan).dropna(axis=1).drop(labels=unwanted_columns, axis=1)\n",
    "\n",
    "display(metadata.sample(5))  # show 5 random books\n",
    "\n",
    "print('Got metadata for {0} books.'.format(len(metadata)))"
   ]
  },
  {
   "cell_type": "markdown",
   "metadata": {},
   "source": [
    "### Narrow down by language meta tag"
   ]
  },
  {
   "cell_type": "code",
   "execution_count": 4,
   "metadata": {},
   "outputs": [
    {
     "data": {
      "text/html": [
       "<div>\n",
       "<style scoped>\n",
       "    .dataframe tbody tr th:only-of-type {\n",
       "        vertical-align: middle;\n",
       "    }\n",
       "\n",
       "    .dataframe tbody tr th {\n",
       "        vertical-align: top;\n",
       "    }\n",
       "\n",
       "    .dataframe thead th {\n",
       "        text-align: right;\n",
       "    }\n",
       "</style>\n",
       "<table border=\"1\" class=\"dataframe\">\n",
       "  <thead>\n",
       "    <tr style=\"text-align: right;\">\n",
       "      <th></th>\n",
       "      <th>lcsh</th>\n",
       "      <th>languages</th>\n",
       "      <th>LCC</th>\n",
       "      <th>author</th>\n",
       "      <th>id</th>\n",
       "      <th>title</th>\n",
       "      <th>type</th>\n",
       "    </tr>\n",
       "  </thead>\n",
       "  <tbody>\n",
       "    <tr>\n",
       "      <th>77</th>\n",
       "      <td>{'Fiction', 'Short stories', 'Detective and my...</td>\n",
       "      <td>['en']</td>\n",
       "      <td>{'PR'}</td>\n",
       "      <td>Doyle, Arthur Conan</td>\n",
       "      <td>40848.0</td>\n",
       "      <td>The Gully of Bluemansdyke, and Other stories</td>\n",
       "      <td>Text</td>\n",
       "    </tr>\n",
       "    <tr>\n",
       "      <th>12</th>\n",
       "      <td>{'Private investigators -- England -- Fiction'...</td>\n",
       "      <td>['en']</td>\n",
       "      <td>{'PR'}</td>\n",
       "      <td>Doyle, Arthur Conan</td>\n",
       "      <td>834.0</td>\n",
       "      <td>The Memoirs of Sherlock Holmes</td>\n",
       "      <td>Text</td>\n",
       "    </tr>\n",
       "    <tr>\n",
       "      <th>53</th>\n",
       "      <td>{'Short stories', 'Mystery fiction'}</td>\n",
       "      <td>['en']</td>\n",
       "      <td>{'PR'}</td>\n",
       "      <td>Doyle, Arthur Conan</td>\n",
       "      <td>17398.0</td>\n",
       "      <td>The Cabman's Story: The Mysteries of a London ...</td>\n",
       "      <td>Text</td>\n",
       "    </tr>\n",
       "    <tr>\n",
       "      <th>81</th>\n",
       "      <td>set()</td>\n",
       "      <td>['en']</td>\n",
       "      <td>set()</td>\n",
       "      <td>Doyle, Arthur Conan</td>\n",
       "      <td>48320.0</td>\n",
       "      <td>Adventures of Sherlock Holmes: Illustrated</td>\n",
       "      <td>Text</td>\n",
       "    </tr>\n",
       "    <tr>\n",
       "      <th>43</th>\n",
       "      <td>{'Adventure stories, English', 'France -- Hist...</td>\n",
       "      <td>['en']</td>\n",
       "      <td>{'PR'}</td>\n",
       "      <td>Doyle, Arthur Conan</td>\n",
       "      <td>11247.0</td>\n",
       "      <td>The Exploits of Brigadier Gerard</td>\n",
       "      <td>Text</td>\n",
       "    </tr>\n",
       "  </tbody>\n",
       "</table>\n",
       "</div>"
      ],
      "text/plain": [
       "                                                 lcsh languages     LCC  \\\n",
       "77  {'Fiction', 'Short stories', 'Detective and my...    ['en']  {'PR'}   \n",
       "12  {'Private investigators -- England -- Fiction'...    ['en']  {'PR'}   \n",
       "53               {'Short stories', 'Mystery fiction'}    ['en']  {'PR'}   \n",
       "81                                              set()    ['en']   set()   \n",
       "43  {'Adventure stories, English', 'France -- Hist...    ['en']  {'PR'}   \n",
       "\n",
       "                 author       id  \\\n",
       "77  Doyle, Arthur Conan  40848.0   \n",
       "12  Doyle, Arthur Conan    834.0   \n",
       "53  Doyle, Arthur Conan  17398.0   \n",
       "81  Doyle, Arthur Conan  48320.0   \n",
       "43  Doyle, Arthur Conan  11247.0   \n",
       "\n",
       "                                                title  type  \n",
       "77       The Gully of Bluemansdyke, and Other stories  Text  \n",
       "12                     The Memoirs of Sherlock Holmes  Text  \n",
       "53  The Cabman's Story: The Mysteries of a London ...  Text  \n",
       "81         Adventures of Sherlock Holmes: Illustrated  Text  \n",
       "43                   The Exploits of Brigadier Gerard  Text  "
      ]
     },
     "metadata": {},
     "output_type": "display_data"
    },
    {
     "name": "stdout",
     "output_type": "stream",
     "text": [
      "Narrowed to 68 books.\n"
     ]
    }
   ],
   "source": [
    "filtered_metadata = pd.DataFrame([item for (_, item) in metadata.iterrows() if 'en' in ''.join(item['languages'])], columns=metadata.columns)\n",
    "\n",
    "display(filtered_metadata.sample(5))  # show 5 random books\n",
    "\n",
    "print('Narrowed to {0} books.'.format(len(filtered_metadata)))"
   ]
  },
  {
   "cell_type": "markdown",
   "metadata": {},
   "source": [
    "### Narrow down by Library of Congress language meta tag\n",
    "\n",
    "PE - English language\n",
    "PR - British literature\n",
    "PS - American literature"
   ]
  },
  {
   "cell_type": "code",
   "execution_count": 5,
   "metadata": {},
   "outputs": [
    {
     "data": {
      "text/html": [
       "<div>\n",
       "<style scoped>\n",
       "    .dataframe tbody tr th:only-of-type {\n",
       "        vertical-align: middle;\n",
       "    }\n",
       "\n",
       "    .dataframe tbody tr th {\n",
       "        vertical-align: top;\n",
       "    }\n",
       "\n",
       "    .dataframe thead th {\n",
       "        text-align: right;\n",
       "    }\n",
       "</style>\n",
       "<table border=\"1\" class=\"dataframe\">\n",
       "  <thead>\n",
       "    <tr style=\"text-align: right;\">\n",
       "      <th></th>\n",
       "      <th>lcsh</th>\n",
       "      <th>languages</th>\n",
       "      <th>LCC</th>\n",
       "      <th>author</th>\n",
       "      <th>id</th>\n",
       "      <th>title</th>\n",
       "      <th>type</th>\n",
       "    </tr>\n",
       "  </thead>\n",
       "  <tbody>\n",
       "    <tr>\n",
       "      <th>6</th>\n",
       "      <td>{'Short stories, English', 'Great Britain -- S...</td>\n",
       "      <td>['en']</td>\n",
       "      <td>{'PR'}</td>\n",
       "      <td>Doyle, Arthur Conan</td>\n",
       "      <td>294.0</td>\n",
       "      <td>The Captain of the Polestar, and Other Tales</td>\n",
       "      <td>Text</td>\n",
       "    </tr>\n",
       "    <tr>\n",
       "      <th>41</th>\n",
       "      <td>{'Sports stories, English', 'Great Britain -- ...</td>\n",
       "      <td>['en']</td>\n",
       "      <td>{'PR'}</td>\n",
       "      <td>Doyle, Arthur Conan</td>\n",
       "      <td>10446.0</td>\n",
       "      <td>The Green Flag, and Other Stories of War and S...</td>\n",
       "      <td>Text</td>\n",
       "    </tr>\n",
       "    <tr>\n",
       "      <th>29</th>\n",
       "      <td>{'Blessing and cursing -- Fiction', 'Holmes, S...</td>\n",
       "      <td>['en']</td>\n",
       "      <td>{'PR'}</td>\n",
       "      <td>Doyle, Arthur Conan</td>\n",
       "      <td>3070.0</td>\n",
       "      <td>The Hound of the Baskervilles</td>\n",
       "      <td>Text</td>\n",
       "    </tr>\n",
       "    <tr>\n",
       "      <th>17</th>\n",
       "      <td>{'Private investigators -- England -- Fiction'...</td>\n",
       "      <td>['en']</td>\n",
       "      <td>{'PR'}</td>\n",
       "      <td>Doyle, Arthur Conan</td>\n",
       "      <td>2097.0</td>\n",
       "      <td>The Sign of the Four</td>\n",
       "      <td>Text</td>\n",
       "    </tr>\n",
       "    <tr>\n",
       "      <th>57</th>\n",
       "      <td>{'East and West -- Fiction', 'Egypt -- Social ...</td>\n",
       "      <td>['en']</td>\n",
       "      <td>{'PR'}</td>\n",
       "      <td>Doyle, Arthur Conan</td>\n",
       "      <td>21768.0</td>\n",
       "      <td>A Desert Drama: Being The Tragedy Of The \"Koro...</td>\n",
       "      <td>Text</td>\n",
       "    </tr>\n",
       "  </tbody>\n",
       "</table>\n",
       "</div>"
      ],
      "text/plain": [
       "                                                 lcsh languages     LCC  \\\n",
       "6   {'Short stories, English', 'Great Britain -- S...    ['en']  {'PR'}   \n",
       "41  {'Sports stories, English', 'Great Britain -- ...    ['en']  {'PR'}   \n",
       "29  {'Blessing and cursing -- Fiction', 'Holmes, S...    ['en']  {'PR'}   \n",
       "17  {'Private investigators -- England -- Fiction'...    ['en']  {'PR'}   \n",
       "57  {'East and West -- Fiction', 'Egypt -- Social ...    ['en']  {'PR'}   \n",
       "\n",
       "                 author       id  \\\n",
       "6   Doyle, Arthur Conan    294.0   \n",
       "41  Doyle, Arthur Conan  10446.0   \n",
       "29  Doyle, Arthur Conan   3070.0   \n",
       "17  Doyle, Arthur Conan   2097.0   \n",
       "57  Doyle, Arthur Conan  21768.0   \n",
       "\n",
       "                                                title  type  \n",
       "6        The Captain of the Polestar, and Other Tales  Text  \n",
       "41  The Green Flag, and Other Stories of War and S...  Text  \n",
       "29                      The Hound of the Baskervilles  Text  \n",
       "17                               The Sign of the Four  Text  \n",
       "57  A Desert Drama: Being The Tragedy Of The \"Koro...  Text  "
      ]
     },
     "metadata": {},
     "output_type": "display_data"
    },
    {
     "name": "stdout",
     "output_type": "stream",
     "text": [
      "Narrowed to 57 books.\n"
     ]
    }
   ],
   "source": [
    "filtered_metadata = pd.DataFrame([item for (_, item) in filtered_metadata.iterrows() if 'PE' in item['LCC'] or 'PR' in item['LCC'] or 'PS' in item['LCC']], columns=metadata.columns)\n",
    "\n",
    "display(filtered_metadata.sample(5))  # show 5 random books\n",
    "\n",
    "print('Narrowed to {0} books.'.format(len(filtered_metadata)))"
   ]
  },
  {
   "cell_type": "markdown",
   "metadata": {},
   "source": [
    "### Narrow down by Library of Congress Subject Heading"
   ]
  },
  {
   "cell_type": "code",
   "execution_count": 6,
   "metadata": {},
   "outputs": [
    {
     "data": {
      "text/html": [
       "<div>\n",
       "<style scoped>\n",
       "    .dataframe tbody tr th:only-of-type {\n",
       "        vertical-align: middle;\n",
       "    }\n",
       "\n",
       "    .dataframe tbody tr th {\n",
       "        vertical-align: top;\n",
       "    }\n",
       "\n",
       "    .dataframe thead th {\n",
       "        text-align: right;\n",
       "    }\n",
       "</style>\n",
       "<table border=\"1\" class=\"dataframe\">\n",
       "  <thead>\n",
       "    <tr style=\"text-align: right;\">\n",
       "      <th></th>\n",
       "      <th>lcsh</th>\n",
       "      <th>languages</th>\n",
       "      <th>LCC</th>\n",
       "      <th>author</th>\n",
       "      <th>id</th>\n",
       "      <th>title</th>\n",
       "      <th>type</th>\n",
       "    </tr>\n",
       "  </thead>\n",
       "  <tbody>\n",
       "    <tr>\n",
       "      <th>25</th>\n",
       "      <td>{'Private investigators -- England -- Fiction'...</td>\n",
       "      <td>['en']</td>\n",
       "      <td>{'PR'}</td>\n",
       "      <td>Doyle, Arthur Conan</td>\n",
       "      <td>2350.0</td>\n",
       "      <td>His Last Bow: An Epilogue of Sherlock Holmes</td>\n",
       "      <td>Text</td>\n",
       "    </tr>\n",
       "    <tr>\n",
       "      <th>4</th>\n",
       "      <td>{'England -- Fiction', 'Private investigators ...</td>\n",
       "      <td>['en']</td>\n",
       "      <td>{'PR'}</td>\n",
       "      <td>Doyle, Arthur Conan</td>\n",
       "      <td>244.0</td>\n",
       "      <td>A Study in Scarlet</td>\n",
       "      <td>Text</td>\n",
       "    </tr>\n",
       "    <tr>\n",
       "      <th>24</th>\n",
       "      <td>{'Private investigators -- England -- Fiction'...</td>\n",
       "      <td>['en']</td>\n",
       "      <td>{'PR'}</td>\n",
       "      <td>Doyle, Arthur Conan</td>\n",
       "      <td>2349.0</td>\n",
       "      <td>The Adventure of the Devil's Foot</td>\n",
       "      <td>Text</td>\n",
       "    </tr>\n",
       "    <tr>\n",
       "      <th>77</th>\n",
       "      <td>{'Fiction', 'Short stories', 'Detective and my...</td>\n",
       "      <td>['en']</td>\n",
       "      <td>{'PR'}</td>\n",
       "      <td>Doyle, Arthur Conan</td>\n",
       "      <td>40848.0</td>\n",
       "      <td>The Gully of Bluemansdyke, and Other stories</td>\n",
       "      <td>Text</td>\n",
       "    </tr>\n",
       "    <tr>\n",
       "      <th>23</th>\n",
       "      <td>{'Private investigators -- England -- Fiction'...</td>\n",
       "      <td>['en']</td>\n",
       "      <td>{'PR'}</td>\n",
       "      <td>Doyle, Arthur Conan</td>\n",
       "      <td>2348.0</td>\n",
       "      <td>The Disappearance of Lady Frances Carfax</td>\n",
       "      <td>Text</td>\n",
       "    </tr>\n",
       "  </tbody>\n",
       "</table>\n",
       "</div>"
      ],
      "text/plain": [
       "                                                 lcsh languages     LCC  \\\n",
       "25  {'Private investigators -- England -- Fiction'...    ['en']  {'PR'}   \n",
       "4   {'England -- Fiction', 'Private investigators ...    ['en']  {'PR'}   \n",
       "24  {'Private investigators -- England -- Fiction'...    ['en']  {'PR'}   \n",
       "77  {'Fiction', 'Short stories', 'Detective and my...    ['en']  {'PR'}   \n",
       "23  {'Private investigators -- England -- Fiction'...    ['en']  {'PR'}   \n",
       "\n",
       "                 author       id  \\\n",
       "25  Doyle, Arthur Conan   2350.0   \n",
       "4   Doyle, Arthur Conan    244.0   \n",
       "24  Doyle, Arthur Conan   2349.0   \n",
       "77  Doyle, Arthur Conan  40848.0   \n",
       "23  Doyle, Arthur Conan   2348.0   \n",
       "\n",
       "                                           title  type  \n",
       "25  His Last Bow: An Epilogue of Sherlock Holmes  Text  \n",
       "4                             A Study in Scarlet  Text  \n",
       "24             The Adventure of the Devil's Foot  Text  \n",
       "77  The Gully of Bluemansdyke, and Other stories  Text  \n",
       "23      The Disappearance of Lady Frances Carfax  Text  "
      ]
     },
     "metadata": {},
     "output_type": "display_data"
    },
    {
     "name": "stdout",
     "output_type": "stream",
     "text": [
      "Narrowed to 21 books.\n"
     ]
    }
   ],
   "source": [
    "filtered_metadata = pd.DataFrame([item for (_, item) in filtered_metadata.iterrows() if 'detective' in item['lcsh'].lower()], columns=metadata.columns)\n",
    "\n",
    "display(filtered_metadata.sample(5))  # show 5 random books\n",
    "\n",
    "print('Narrowed to {0} books.'.format(len(filtered_metadata)))"
   ]
  },
  {
   "cell_type": "markdown",
   "metadata": {},
   "source": [
    "### Get Full Text Corpus"
   ]
  },
  {
   "cell_type": "code",
   "execution_count": 7,
   "metadata": {},
   "outputs": [
    {
     "name": "stdout",
     "output_type": "stream",
     "text": [
      "Corpus of 21 texts.\n"
     ]
    }
   ],
   "source": [
    "def getFulltext(bookID): \n",
    "    return json.loads(requests.get(corpus_db_url + '/id/' + bookID + '/fulltext').text)\n",
    "\n",
    "corpus = [getFulltext(bookID) for bookID in filtered_metadata['id']]\n",
    "\n",
    "print('Corpus of {0} texts.'.format(len(filtered_metadata)))"
   ]
  }
 ],
 "metadata": {
  "kernelspec": {
   "display_name": "novel-language-processing",
   "language": "python",
   "name": "novel-language-processing"
  },
  "language_info": {
   "codemirror_mode": {
    "name": "ipython",
    "version": 3
   },
   "file_extension": ".py",
   "mimetype": "text/x-python",
   "name": "python",
   "nbconvert_exporter": "python",
   "pygments_lexer": "ipython3",
   "version": "3.8.3"
  }
 },
 "nbformat": 4,
 "nbformat_minor": 4
}
