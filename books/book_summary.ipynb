{
 "cells": [
  {
   "cell_type": "markdown",
   "metadata": {},
   "source": [
    "# Summary of Subject Corpus"
   ]
  },
  {
   "cell_type": "markdown",
   "metadata": {},
   "source": [
    "## Imports"
   ]
  },
  {
   "cell_type": "code",
   "execution_count": 8,
   "metadata": {},
   "outputs": [],
   "source": [
    "import requests\n",
    "import json\n",
    "import pandas as pd\n",
    "import numpy as np"
   ]
  },
  {
   "cell_type": "markdown",
   "metadata": {},
   "source": [
    "## Parameters"
   ]
  },
  {
   "cell_type": "code",
   "execution_count": 9,
   "metadata": {},
   "outputs": [],
   "source": [
    "corpus_db_url = \"http://corpus-db.org/api\"\n",
    "book = 'The Hound of The Baskervilles'\n",
    "book_id = 3070.0  # have to know the id at the moment"
   ]
  },
  {
   "cell_type": "markdown",
   "metadata": {},
   "source": [
    "## Get Metadata"
   ]
  },
  {
   "cell_type": "code",
   "execution_count": 19,
   "metadata": {},
   "outputs": [
    {
     "data": {
      "text/html": [
       "<div>\n",
       "<style scoped>\n",
       "    .dataframe tbody tr th:only-of-type {\n",
       "        vertical-align: middle;\n",
       "    }\n",
       "\n",
       "    .dataframe tbody tr th {\n",
       "        vertical-align: top;\n",
       "    }\n",
       "\n",
       "    .dataframe thead th {\n",
       "        text-align: right;\n",
       "    }\n",
       "</style>\n",
       "<table border=\"1\" class=\"dataframe\">\n",
       "  <thead>\n",
       "    <tr style=\"text-align: right;\">\n",
       "      <th></th>\n",
       "      <th>lcsh</th>\n",
       "      <th>creator</th>\n",
       "      <th>downloads</th>\n",
       "      <th>rights_url</th>\n",
       "      <th>authoryearofdeath</th>\n",
       "      <th>_repo</th>\n",
       "      <th>wp_subjects</th>\n",
       "      <th>gutenberg_issued</th>\n",
       "      <th>identifiers</th>\n",
       "      <th>formats</th>\n",
       "      <th>...</th>\n",
       "      <th>id</th>\n",
       "      <th>gutenberg_bookshelf</th>\n",
       "      <th>_version</th>\n",
       "      <th>title</th>\n",
       "      <th>type</th>\n",
       "      <th>wp_literary_genres</th>\n",
       "      <th>publisher</th>\n",
       "      <th>covers</th>\n",
       "      <th>description</th>\n",
       "      <th>filename</th>\n",
       "    </tr>\n",
       "  </thead>\n",
       "  <tbody>\n",
       "    <tr>\n",
       "      <th>0</th>\n",
       "      <td>{'Blessing and cursing -- Fiction', 'Holmes, S...</td>\n",
       "      <td>{'author': {'agent_name': 'Doyle, Arthur Conan...</td>\n",
       "      <td>348</td>\n",
       "      <td>http://creativecommons.org/about/pdm</td>\n",
       "      <td>1930</td>\n",
       "      <td>The-Hound-of-the-Baskervilles_3070</td>\n",
       "      <td>['Gothic_novels', '1902_novels', 'Dartmoor', '...</td>\n",
       "      <td>2002-02-01</td>\n",
       "      <td>{'gutenberg': '3070', 'wikidata': 'Q45192'}</td>\n",
       "      <td>{'text/plain; charset=us-ascii': 'http://www.g...</td>\n",
       "      <td>...</td>\n",
       "      <td>3070.0</td>\n",
       "      <td>Bestsellers, American, 1895-1923</td>\n",
       "      <td>0.2.0</td>\n",
       "      <td>The Hound of the Baskervilles</td>\n",
       "      <td>Text</td>\n",
       "      <td>['Detective_fiction']</td>\n",
       "      <td>Project Gutenberg</td>\n",
       "      <td>[{'cover_type': 'generated', 'image_path': 'co...</td>\n",
       "      <td>The Hound of the Baskervilles is the third of ...</td>\n",
       "      <td>/run/media/jon/SAMSUNG/gitenberg/The-Hound-of-...</td>\n",
       "    </tr>\n",
       "  </tbody>\n",
       "</table>\n",
       "<p>1 rows × 31 columns</p>\n",
       "</div>"
      ],
      "text/plain": [
       "                                                lcsh  \\\n",
       "0  {'Blessing and cursing -- Fiction', 'Holmes, S...   \n",
       "\n",
       "                                             creator downloads  \\\n",
       "0  {'author': {'agent_name': 'Doyle, Arthur Conan...       348   \n",
       "\n",
       "                             rights_url authoryearofdeath  \\\n",
       "0  http://creativecommons.org/about/pdm              1930   \n",
       "\n",
       "                                _repo  \\\n",
       "0  The-Hound-of-the-Baskervilles_3070   \n",
       "\n",
       "                                         wp_subjects gutenberg_issued  \\\n",
       "0  ['Gothic_novels', '1902_novels', 'Dartmoor', '...       2002-02-01   \n",
       "\n",
       "                                   identifiers  \\\n",
       "0  {'gutenberg': '3070', 'wikidata': 'Q45192'}   \n",
       "\n",
       "                                             formats  ...      id  \\\n",
       "0  {'text/plain; charset=us-ascii': 'http://www.g...  ...  3070.0   \n",
       "\n",
       "                gutenberg_bookshelf _version                          title  \\\n",
       "0  Bestsellers, American, 1895-1923    0.2.0  The Hound of the Baskervilles   \n",
       "\n",
       "   type     wp_literary_genres          publisher  \\\n",
       "0  Text  ['Detective_fiction']  Project Gutenberg   \n",
       "\n",
       "                                              covers  \\\n",
       "0  [{'cover_type': 'generated', 'image_path': 'co...   \n",
       "\n",
       "                                         description  \\\n",
       "0  The Hound of the Baskervilles is the third of ...   \n",
       "\n",
       "                                            filename  \n",
       "0  /run/media/jon/SAMSUNG/gitenberg/The-Hound-of-...  \n",
       "\n",
       "[1 rows x 31 columns]"
      ]
     },
     "metadata": {},
     "output_type": "display_data"
    }
   ],
   "source": [
    "metadata = pd.DataFrame(json.loads(requests.get(corpus_db_url + f\"/id/{book_id}\").text), index=[0])\n",
    "metadata = metadata.replace('', np.nan).dropna(axis=1)\n",
    "\n",
    "display(metadata)"
   ]
  },
  {
   "cell_type": "markdown",
   "metadata": {},
   "source": [
    "## Get Full Text"
   ]
  },
  {
   "cell_type": "code",
   "execution_count": 25,
   "metadata": {},
   "outputs": [
    {
     "name": "stdout",
     "output_type": "stream",
     "text": [
      "Book is 318546 characters long.\n"
     ]
    }
   ],
   "source": [
    "corpus = json.loads(requests.get(corpus_db_url + f\"/id/{book_id}/fulltext\").text)\n",
    "\n",
    "print('Book is {0} characters long.'.format(len(corpus[0]['text'])))"
   ]
  }
 ],
 "metadata": {
  "kernelspec": {
   "display_name": "novel-language-processing",
   "language": "python",
   "name": "novel-language-processing"
  },
  "language_info": {
   "codemirror_mode": {
    "name": "ipython",
    "version": 3
   },
   "file_extension": ".py",
   "mimetype": "text/x-python",
   "name": "python",
   "nbconvert_exporter": "python",
   "pygments_lexer": "ipython3",
   "version": "3.8.3"
  }
 },
 "nbformat": 4,
 "nbformat_minor": 4
}
